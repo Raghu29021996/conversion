{
 "cells": [
  {
   "cell_type": "code",
   "execution_count": 1,
   "metadata": {},
   "outputs": [],
   "source": [
    "import pandas as pd \n",
    "import numpy as np "
   ]
  },
  {
   "cell_type": "code",
   "execution_count": 2,
   "metadata": {},
   "outputs": [
    {
     "name": "stdout",
     "output_type": "stream",
     "text": [
      "Note: you may need to restart the kernel to use updated packages.\n"
     ]
    },
    {
     "name": "stderr",
     "output_type": "stream",
     "text": [
      "'C:\\Users\\Lenovo' is not recognized as an internal or external command,\n",
      "operable program or batch file.\n"
     ]
    }
   ],
   "source": [
    "pip install tabula-py"
   ]
  },
  {
   "cell_type": "code",
   "execution_count": 3,
   "metadata": {},
   "outputs": [],
   "source": [
    "import tabula"
   ]
  },
  {
   "cell_type": "code",
   "execution_count": null,
   "metadata": {},
   "outputs": [],
   "source": [
    "#df = \"C:\\Users\\Lenovo PC\\Desktop\\Resume.pdf\"\n",
    "#output = \"C:/Users/Lenovo PC/Downloads/test.csv\"\n",
    "#tabula.convert_into(df, output, output_format=\"csv\", stream=True)"
   ]
  },
  {
   "cell_type": "code",
   "execution_count": 5,
   "metadata": {},
   "outputs": [
    {
     "name": "stderr",
     "output_type": "stream",
     "text": [
      "Got stderr: Mar 23, 2021 12:47:48 PM org.apache.pdfbox.rendering.PDFRenderer suggestKCMS\r\n",
      "INFO: Your current java version is: 9.0.1\r\n",
      "Mar 23, 2021 12:47:48 PM org.apache.pdfbox.rendering.PDFRenderer suggestKCMS\r\n",
      "INFO: To get higher rendering speed on old java 1.8 or 9 versions,\r\n",
      "Mar 23, 2021 12:47:48 PM org.apache.pdfbox.rendering.PDFRenderer suggestKCMS\r\n",
      "INFO:   update to the latest 1.8 or 9 version (>= 1.8.0_191 or >= 9.0.4),\r\n",
      "Mar 23, 2021 12:47:48 PM org.apache.pdfbox.rendering.PDFRenderer suggestKCMS\r\n",
      "INFO:   or\r\n",
      "Mar 23, 2021 12:47:48 PM org.apache.pdfbox.rendering.PDFRenderer suggestKCMS\r\n",
      "INFO:   use the option -Dsun.java2d.cmm=sun.java2d.cmm.kcms.KcmsServiceProvider\r\n",
      "Mar 23, 2021 12:47:48 PM org.apache.pdfbox.rendering.PDFRenderer suggestKCMS\r\n",
      "INFO:   or call System.setProperty(\"sun.java2d.cmm\", \"sun.java2d.cmm.kcms.KcmsServiceProvider\")\r\n",
      "\n"
     ]
    }
   ],
   "source": [
    "df = tabula.read_pdf(\"Test1.pdf\", pages='all')\n",
    "\n",
    "import warnings\n",
    "warnings.filterwarnings('ignore')\n"
   ]
  },
  {
   "cell_type": "code",
   "execution_count": 6,
   "metadata": {},
   "outputs": [
    {
     "name": "stderr",
     "output_type": "stream",
     "text": [
      "Got stderr: Mar 23, 2021 12:48:15 PM org.apache.pdfbox.rendering.PDFRenderer suggestKCMS\r\n",
      "INFO: Your current java version is: 9.0.1\r\n",
      "Mar 23, 2021 12:48:15 PM org.apache.pdfbox.rendering.PDFRenderer suggestKCMS\r\n",
      "INFO: To get higher rendering speed on old java 1.8 or 9 versions,\r\n",
      "Mar 23, 2021 12:48:15 PM org.apache.pdfbox.rendering.PDFRenderer suggestKCMS\r\n",
      "INFO:   update to the latest 1.8 or 9 version (>= 1.8.0_191 or >= 9.0.4),\r\n",
      "Mar 23, 2021 12:48:15 PM org.apache.pdfbox.rendering.PDFRenderer suggestKCMS\r\n",
      "INFO:   or\r\n",
      "Mar 23, 2021 12:48:15 PM org.apache.pdfbox.rendering.PDFRenderer suggestKCMS\r\n",
      "INFO:   use the option -Dsun.java2d.cmm=sun.java2d.cmm.kcms.KcmsServiceProvider\r\n",
      "Mar 23, 2021 12:48:15 PM org.apache.pdfbox.rendering.PDFRenderer suggestKCMS\r\n",
      "INFO:   or call System.setProperty(\"sun.java2d.cmm\", \"sun.java2d.cmm.kcms.KcmsServiceProvider\")\r\n",
      "\n"
     ]
    }
   ],
   "source": [
    "tabula.convert_into(\"Test1.pdf\", \"output.csv\", output_format=\"csv\", pages='all')"
   ]
  },
  {
   "cell_type": "code",
   "execution_count": null,
   "metadata": {},
   "outputs": [],
   "source": []
  }
 ],
 "metadata": {
  "kernelspec": {
   "display_name": "Python 3",
   "language": "python",
   "name": "python3"
  },
  "language_info": {
   "codemirror_mode": {
    "name": "ipython",
    "version": 3
   },
   "file_extension": ".py",
   "mimetype": "text/x-python",
   "name": "python",
   "nbconvert_exporter": "python",
   "pygments_lexer": "ipython3",
   "version": "3.7.6"
  }
 },
 "nbformat": 4,
 "nbformat_minor": 4
}
